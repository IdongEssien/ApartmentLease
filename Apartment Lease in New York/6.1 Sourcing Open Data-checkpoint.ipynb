{
 "cells": [
  {
   "cell_type": "markdown",
   "id": "fbee9fb4",
   "metadata": {},
   "source": [
    "# Data Sourcing and Preparation"
   ]
  },
  {
   "cell_type": "markdown",
   "id": "5a7d5d12",
   "metadata": {},
   "source": [
    "## List of Content\n",
    "##### 1.0 Preparing the freshly sourced data set for observation/analysis\n",
    "- An overview of the dataframe\n",
    "\n",
    "##### 2.0 Carrying out wrangling checks\n",
    "- Dropping columns\n",
    "- Modifying/Renaming columns\n",
    "\n",
    "##### 3.0 Data consistency checks\n",
    "- Checking for mixed data type\n",
    "- Searching and tackling missing values\n",
    "- Detecting and handling the presence of duplicates\n",
    "\n",
    "##### 4.0 Exporting the data "
   ]
  },
  {
   "cell_type": "code",
   "execution_count": 1,
   "id": "bdc18597",
   "metadata": {},
   "outputs": [],
   "source": [
    "# Import libraries\n",
    "\n",
    "import pandas as pd\n",
    "import numpy as np\n",
    "import os\n",
    "import matplotlib.pyplot as plt\n",
    "import seaborn as sns\n",
    "import scipy"
   ]
  },
  {
   "cell_type": "code",
   "execution_count": 2,
   "id": "4dc73e03",
   "metadata": {},
   "outputs": [
    {
     "name": "stderr",
     "output_type": "stream",
     "text": [
      "C:\\Users\\IDONG\\AppData\\Local\\Temp\\ipykernel_173464\\63909464.py:3: DtypeWarning: Columns (27) have mixed types. Specify dtype option on import or set low_memory=False.\n",
      "  df_Airbnb = pd.read_csv(r'C:\\Users\\IDONG\\Original data\\Airbnb_Open_Data_NY.csv', index_col = False)\n"
     ]
    }
   ],
   "source": [
    "# Import the sourced dataset for the project as df_Airbnb\n",
    "\n",
    "df_Airbnb = pd.read_csv(r'C:\\Users\\IDONG\\Original data\\Airbnb_Open_Data_NY.csv', index_col = False)"
   ]
  },
  {
   "cell_type": "markdown",
   "id": "67f1f14c",
   "metadata": {},
   "source": [
    "## 1.0 Preparing the freshly sourced data set for observation/analysis"
   ]
  },
  {
   "cell_type": "markdown",
   "id": "983952f7",
   "metadata": {},
   "source": [
    "##### 1.1 An Overview of the Dataframe"
   ]
  },
  {
   "cell_type": "code",
   "execution_count": 3,
   "id": "c782f10b",
   "metadata": {},
   "outputs": [
    {
     "data": {
      "text/plain": [
       "(102599, 28)"
      ]
     },
     "execution_count": 3,
     "metadata": {},
     "output_type": "execute_result"
    }
   ],
   "source": [
    "# Checking for the dataframe dimensions\n",
    "\n",
    "df_Airbnb.shape"
   ]
  },
  {
   "cell_type": "code",
   "execution_count": 4,
   "id": "40f95927",
   "metadata": {
    "scrolled": true
   },
   "outputs": [
    {
     "data": {
      "text/html": [
       "<div>\n",
       "<style scoped>\n",
       "    .dataframe tbody tr th:only-of-type {\n",
       "        vertical-align: middle;\n",
       "    }\n",
       "\n",
       "    .dataframe tbody tr th {\n",
       "        vertical-align: top;\n",
       "    }\n",
       "\n",
       "    .dataframe thead th {\n",
       "        text-align: right;\n",
       "    }\n",
       "</style>\n",
       "<table border=\"1\" class=\"dataframe\">\n",
       "  <thead>\n",
       "    <tr style=\"text-align: right;\">\n",
       "      <th></th>\n",
       "      <th>id</th>\n",
       "      <th>NAME</th>\n",
       "      <th>host id</th>\n",
       "      <th>host_identity_verified</th>\n",
       "      <th>host name</th>\n",
       "      <th>neighbourhood group</th>\n",
       "      <th>neighbourhood</th>\n",
       "      <th>lat</th>\n",
       "      <th>long</th>\n",
       "      <th>country</th>\n",
       "      <th>...</th>\n",
       "      <th>service</th>\n",
       "      <th>minimum nights</th>\n",
       "      <th>number of reviews</th>\n",
       "      <th>last review</th>\n",
       "      <th>reviews per month</th>\n",
       "      <th>review rate number</th>\n",
       "      <th>calculated host listings count</th>\n",
       "      <th>availability 365</th>\n",
       "      <th>house_rules</th>\n",
       "      <th>license</th>\n",
       "    </tr>\n",
       "  </thead>\n",
       "  <tbody>\n",
       "    <tr>\n",
       "      <th>0</th>\n",
       "      <td>1001254</td>\n",
       "      <td>Clean &amp; quiet apt home by the park</td>\n",
       "      <td>80014485718</td>\n",
       "      <td>unconfirmed</td>\n",
       "      <td>Madaline</td>\n",
       "      <td>Brooklyn</td>\n",
       "      <td>Kensington</td>\n",
       "      <td>40.64749</td>\n",
       "      <td>-73.97237</td>\n",
       "      <td>United States</td>\n",
       "      <td>...</td>\n",
       "      <td>$193</td>\n",
       "      <td>10.0</td>\n",
       "      <td>9.0</td>\n",
       "      <td>10/19/2021</td>\n",
       "      <td>0.21</td>\n",
       "      <td>4.0</td>\n",
       "      <td>6.0</td>\n",
       "      <td>286.0</td>\n",
       "      <td>Clean up and treat the home the way you'd like...</td>\n",
       "      <td>NaN</td>\n",
       "    </tr>\n",
       "    <tr>\n",
       "      <th>1</th>\n",
       "      <td>1002102</td>\n",
       "      <td>Skylit Midtown Castle</td>\n",
       "      <td>52335172823</td>\n",
       "      <td>verified</td>\n",
       "      <td>Jenna</td>\n",
       "      <td>Manhattan</td>\n",
       "      <td>Midtown</td>\n",
       "      <td>40.75362</td>\n",
       "      <td>-73.98377</td>\n",
       "      <td>United States</td>\n",
       "      <td>...</td>\n",
       "      <td>$28</td>\n",
       "      <td>30.0</td>\n",
       "      <td>45.0</td>\n",
       "      <td>5/21/2022</td>\n",
       "      <td>0.38</td>\n",
       "      <td>4.0</td>\n",
       "      <td>2.0</td>\n",
       "      <td>228.0</td>\n",
       "      <td>Pet friendly but please confirm with me if the...</td>\n",
       "      <td>NaN</td>\n",
       "    </tr>\n",
       "    <tr>\n",
       "      <th>2</th>\n",
       "      <td>1002403</td>\n",
       "      <td>THE VILLAGE OF HARLEM....NEW YORK !</td>\n",
       "      <td>78829239556</td>\n",
       "      <td>NaN</td>\n",
       "      <td>Elise</td>\n",
       "      <td>Manhattan</td>\n",
       "      <td>Harlem</td>\n",
       "      <td>40.80902</td>\n",
       "      <td>-73.94190</td>\n",
       "      <td>United States</td>\n",
       "      <td>...</td>\n",
       "      <td>$124</td>\n",
       "      <td>3.0</td>\n",
       "      <td>0.0</td>\n",
       "      <td>NaN</td>\n",
       "      <td>NaN</td>\n",
       "      <td>5.0</td>\n",
       "      <td>1.0</td>\n",
       "      <td>352.0</td>\n",
       "      <td>I encourage you to use my kitchen, cooking and...</td>\n",
       "      <td>NaN</td>\n",
       "    </tr>\n",
       "    <tr>\n",
       "      <th>3</th>\n",
       "      <td>1002755</td>\n",
       "      <td>NaN</td>\n",
       "      <td>85098326012</td>\n",
       "      <td>unconfirmed</td>\n",
       "      <td>Garry</td>\n",
       "      <td>Brooklyn</td>\n",
       "      <td>Clinton Hill</td>\n",
       "      <td>40.68514</td>\n",
       "      <td>-73.95976</td>\n",
       "      <td>United States</td>\n",
       "      <td>...</td>\n",
       "      <td>$74</td>\n",
       "      <td>30.0</td>\n",
       "      <td>270.0</td>\n",
       "      <td>07/05/2019</td>\n",
       "      <td>4.64</td>\n",
       "      <td>4.0</td>\n",
       "      <td>1.0</td>\n",
       "      <td>322.0</td>\n",
       "      <td>NaN</td>\n",
       "      <td>NaN</td>\n",
       "    </tr>\n",
       "    <tr>\n",
       "      <th>4</th>\n",
       "      <td>1003689</td>\n",
       "      <td>Entire Apt: Spacious Studio/Loft by central park</td>\n",
       "      <td>92037596077</td>\n",
       "      <td>verified</td>\n",
       "      <td>Lyndon</td>\n",
       "      <td>Manhattan</td>\n",
       "      <td>East Harlem</td>\n",
       "      <td>40.79851</td>\n",
       "      <td>-73.94399</td>\n",
       "      <td>United States</td>\n",
       "      <td>...</td>\n",
       "      <td>$41</td>\n",
       "      <td>10.0</td>\n",
       "      <td>9.0</td>\n",
       "      <td>11/19/2018</td>\n",
       "      <td>0.10</td>\n",
       "      <td>3.0</td>\n",
       "      <td>1.0</td>\n",
       "      <td>289.0</td>\n",
       "      <td>Please no smoking in the house, porch or on th...</td>\n",
       "      <td>NaN</td>\n",
       "    </tr>\n",
       "  </tbody>\n",
       "</table>\n",
       "<p>5 rows × 28 columns</p>\n",
       "</div>"
      ],
      "text/plain": [
       "        id                                              NAME      host id  \\\n",
       "0  1001254                Clean & quiet apt home by the park  80014485718   \n",
       "1  1002102                             Skylit Midtown Castle  52335172823   \n",
       "2  1002403               THE VILLAGE OF HARLEM....NEW YORK !  78829239556   \n",
       "3  1002755                                               NaN  85098326012   \n",
       "4  1003689  Entire Apt: Spacious Studio/Loft by central park  92037596077   \n",
       "\n",
       "  host_identity_verified host name neighbourhood group neighbourhood  \\\n",
       "0            unconfirmed  Madaline            Brooklyn    Kensington   \n",
       "1               verified     Jenna           Manhattan       Midtown   \n",
       "2                    NaN     Elise           Manhattan        Harlem   \n",
       "3            unconfirmed     Garry            Brooklyn  Clinton Hill   \n",
       "4               verified    Lyndon           Manhattan   East Harlem   \n",
       "\n",
       "        lat      long        country  ... service minimum nights  \\\n",
       "0  40.64749 -73.97237  United States  ...   $193            10.0   \n",
       "1  40.75362 -73.98377  United States  ...    $28            30.0   \n",
       "2  40.80902 -73.94190  United States  ...   $124             3.0   \n",
       "3  40.68514 -73.95976  United States  ...    $74            30.0   \n",
       "4  40.79851 -73.94399  United States  ...    $41            10.0   \n",
       "\n",
       "  number of reviews last review  reviews per month review rate number  \\\n",
       "0               9.0  10/19/2021               0.21                4.0   \n",
       "1              45.0   5/21/2022               0.38                4.0   \n",
       "2               0.0         NaN                NaN                5.0   \n",
       "3             270.0  07/05/2019               4.64                4.0   \n",
       "4               9.0  11/19/2018               0.10                3.0   \n",
       "\n",
       "   calculated host listings count  availability 365  \\\n",
       "0                             6.0             286.0   \n",
       "1                             2.0             228.0   \n",
       "2                             1.0             352.0   \n",
       "3                             1.0             322.0   \n",
       "4                             1.0             289.0   \n",
       "\n",
       "                                         house_rules  license  \n",
       "0  Clean up and treat the home the way you'd like...      NaN  \n",
       "1  Pet friendly but please confirm with me if the...      NaN  \n",
       "2  I encourage you to use my kitchen, cooking and...      NaN  \n",
       "3                                                NaN      NaN  \n",
       "4  Please no smoking in the house, porch or on th...      NaN  \n",
       "\n",
       "[5 rows x 28 columns]"
      ]
     },
     "execution_count": 4,
     "metadata": {},
     "output_type": "execute_result"
    }
   ],
   "source": [
    "df_Airbnb.head()"
   ]
  },
  {
   "cell_type": "code",
   "execution_count": 5,
   "id": "9317bf12",
   "metadata": {},
   "outputs": [
    {
     "name": "stdout",
     "output_type": "stream",
     "text": [
      "<class 'pandas.core.frame.DataFrame'>\n",
      "RangeIndex: 102599 entries, 0 to 102598\n",
      "Data columns (total 28 columns):\n",
      " #   Column                          Non-Null Count   Dtype  \n",
      "---  ------                          --------------   -----  \n",
      " 0   id                              102599 non-null  int64  \n",
      " 1   NAME                            102349 non-null  object \n",
      " 2   host id                         102599 non-null  int64  \n",
      " 3   host_identity_verified          102310 non-null  object \n",
      " 4   host name                       102193 non-null  object \n",
      " 5   neighbourhood group             102570 non-null  object \n",
      " 6   neighbourhood                   102583 non-null  object \n",
      " 7   lat                             102591 non-null  float64\n",
      " 8   long                            102591 non-null  float64\n",
      " 9   country                         102067 non-null  object \n",
      " 10  country code                    102468 non-null  object \n",
      " 11  instant_bookable                102494 non-null  object \n",
      " 12  cancellation_policy             102523 non-null  object \n",
      " 13  room type                       102599 non-null  object \n",
      " 14  Construction year               102385 non-null  float64\n",
      " 15  price_P                         102352 non-null  object \n",
      " 16  price                           102352 non-null  float64\n",
      " 17  service fee                     102326 non-null  float64\n",
      " 18  service                         102326 non-null  object \n",
      " 19  minimum nights                  102190 non-null  float64\n",
      " 20  number of reviews               102416 non-null  float64\n",
      " 21  last review                     86706 non-null   object \n",
      " 22  reviews per month               86720 non-null   float64\n",
      " 23  review rate number              102273 non-null  float64\n",
      " 24  calculated host listings count  102280 non-null  float64\n",
      " 25  availability 365                102151 non-null  float64\n",
      " 26  house_rules                     50468 non-null   object \n",
      " 27  license                         2 non-null       object \n",
      "dtypes: float64(11), int64(2), object(15)\n",
      "memory usage: 21.9+ MB\n"
     ]
    }
   ],
   "source": [
    "df_Airbnb.info()"
   ]
  },
  {
   "cell_type": "markdown",
   "id": "60c37c9b",
   "metadata": {},
   "source": [
    "## 2.0 Carrying out wrangling checks"
   ]
  },
  {
   "cell_type": "markdown",
   "id": "9886ac1b",
   "metadata": {},
   "source": [
    "##### 2.1 Dropping Columns"
   ]
  },
  {
   "cell_type": "code",
   "execution_count": 6,
   "id": "a6a99c56",
   "metadata": {},
   "outputs": [],
   "source": [
    "# Removing columns that have been confirmed as not readily needed for the project('host name' was removed due to data privacy).\n",
    "\n",
    "df_Airbnb_NY = df_Airbnb.drop(columns = ['NAME', 'host name', 'country code', 'price_P', 'service', 'reviews per month', 'house_rules', 'license'])"
   ]
  },
  {
   "cell_type": "code",
   "execution_count": 7,
   "id": "3d4c5f8b",
   "metadata": {},
   "outputs": [
    {
     "data": {
      "text/plain": [
       "(102599, 20)"
      ]
     },
     "execution_count": 7,
     "metadata": {},
     "output_type": "execute_result"
    }
   ],
   "source": [
    "# Reconfirming the dimensions after columns removal \n",
    "\n",
    "df_Airbnb_NY.shape"
   ]
  },
  {
   "cell_type": "markdown",
   "id": "bf8f6a15",
   "metadata": {},
   "source": [
    "##### 2.2 Modifying/Renaming columns"
   ]
  },
  {
   "cell_type": "code",
   "execution_count": 8,
   "id": "ec61669a",
   "metadata": {},
   "outputs": [],
   "source": [
    "# There was a need to rename some columns for immediate understanding and uniformity.\n",
    "\n",
    "df_Airbnb_NY.rename(columns = {'host id' : 'host_id'}, inplace = True)"
   ]
  },
  {
   "cell_type": "code",
   "execution_count": 9,
   "id": "5c33748b",
   "metadata": {},
   "outputs": [],
   "source": [
    "df_Airbnb_NY.rename(columns = {'host_identity_verified' : 'verification'}, inplace = True)"
   ]
  },
  {
   "cell_type": "code",
   "execution_count": 10,
   "id": "a6c4ae05",
   "metadata": {},
   "outputs": [],
   "source": [
    "df_Airbnb_NY.rename(columns = {'neighbourhood group' : 'neighbourhood_group'}, inplace = True)"
   ]
  },
  {
   "cell_type": "code",
   "execution_count": 11,
   "id": "715c5705",
   "metadata": {},
   "outputs": [],
   "source": [
    "df_Airbnb_NY.rename(columns = {'room type' : 'room_type'}, inplace = True)"
   ]
  },
  {
   "cell_type": "code",
   "execution_count": 12,
   "id": "e2b49a10",
   "metadata": {},
   "outputs": [],
   "source": [
    "df_Airbnb_NY.rename(columns = {'Construction year' : 'construction_year'}, inplace = True)"
   ]
  },
  {
   "cell_type": "code",
   "execution_count": 13,
   "id": "62870623",
   "metadata": {},
   "outputs": [],
   "source": [
    "df_Airbnb_NY.rename(columns = {'service fee' : 'service_fee'}, inplace = True)"
   ]
  },
  {
   "cell_type": "code",
   "execution_count": 14,
   "id": "45869195",
   "metadata": {},
   "outputs": [],
   "source": [
    "df_Airbnb_NY.rename(columns = {'minimum nights' : 'minimum_nights'}, inplace = True)"
   ]
  },
  {
   "cell_type": "code",
   "execution_count": 15,
   "id": "a93a539d",
   "metadata": {},
   "outputs": [],
   "source": [
    "df_Airbnb_NY.rename(columns = {'number of reviews' : 'num_of_reviews'}, inplace = True)"
   ]
  },
  {
   "cell_type": "code",
   "execution_count": 16,
   "id": "656c186b",
   "metadata": {},
   "outputs": [],
   "source": [
    "df_Airbnb_NY.rename(columns = {'last review' : 'last_review'}, inplace = True)"
   ]
  },
  {
   "cell_type": "code",
   "execution_count": 17,
   "id": "b79bfac7",
   "metadata": {},
   "outputs": [],
   "source": [
    "df_Airbnb_NY.rename(columns = {'review rate number' : 'rating'}, inplace = True)"
   ]
  },
  {
   "cell_type": "code",
   "execution_count": 18,
   "id": "e676d9c6",
   "metadata": {},
   "outputs": [],
   "source": [
    "df_Airbnb_NY.rename(columns = {'calculated host listings count' : 'host_listings_count'}, inplace = True)"
   ]
  },
  {
   "cell_type": "code",
   "execution_count": 19,
   "id": "37a2250a",
   "metadata": {},
   "outputs": [],
   "source": [
    "df_Airbnb_NY.rename(columns = {'availability 365' : '365_availability'}, inplace = True)"
   ]
  },
  {
   "cell_type": "markdown",
   "id": "51bcdc03",
   "metadata": {},
   "source": [
    "## 3.0 Data consistency checks"
   ]
  },
  {
   "cell_type": "markdown",
   "id": "0dac80a4",
   "metadata": {},
   "source": [
    "##### 3.1 Checking for mixed data type"
   ]
  },
  {
   "cell_type": "code",
   "execution_count": 20,
   "id": "93eca8b2",
   "metadata": {},
   "outputs": [
    {
     "name": "stdout",
     "output_type": "stream",
     "text": [
      "verification\n",
      "neighbourhood_group\n",
      "neighbourhood\n",
      "country\n",
      "instant_bookable\n",
      "cancellation_policy\n",
      "last_review\n"
     ]
    }
   ],
   "source": [
    "# A quick check to ascertain the presence of mixed data types in any given column\n",
    "\n",
    "for col in df_Airbnb_NY.columns.tolist():\n",
    "  weird = (df_Airbnb_NY[[col]].applymap(type) != df_Airbnb_NY[[col]].iloc[0].apply(type)).any(axis = 1)\n",
    "  if len (df_Airbnb_NY[weird]) > 0:\n",
    "    print (col)"
   ]
  },
  {
   "cell_type": "code",
   "execution_count": 21,
   "id": "c12b7937",
   "metadata": {},
   "outputs": [],
   "source": [
    "# Streamlining the values in identified columns for the sake of data type uniformity per column\n",
    "\n",
    "df_Airbnb_NY['verification'] = df_Airbnb_NY['verification'].astype('str')"
   ]
  },
  {
   "cell_type": "code",
   "execution_count": 22,
   "id": "42877771",
   "metadata": {},
   "outputs": [],
   "source": [
    "df_Airbnb_NY['neighbourhood_group'] = df_Airbnb_NY['neighbourhood_group'].astype('str')"
   ]
  },
  {
   "cell_type": "code",
   "execution_count": 23,
   "id": "f3f00678",
   "metadata": {},
   "outputs": [],
   "source": [
    "df_Airbnb_NY['neighbourhood'] = df_Airbnb_NY['neighbourhood'].astype('str')"
   ]
  },
  {
   "cell_type": "code",
   "execution_count": 24,
   "id": "f7a4fd4a",
   "metadata": {},
   "outputs": [],
   "source": [
    "df_Airbnb_NY['country'] = df_Airbnb_NY['country'].astype('str')"
   ]
  },
  {
   "cell_type": "code",
   "execution_count": 25,
   "id": "7474df53",
   "metadata": {},
   "outputs": [],
   "source": [
    "df_Airbnb_NY['instant_bookable'] = df_Airbnb_NY['instant_bookable'].astype('str')"
   ]
  },
  {
   "cell_type": "code",
   "execution_count": 26,
   "id": "7ace81fa",
   "metadata": {},
   "outputs": [],
   "source": [
    "df_Airbnb_NY['cancellation_policy'] = df_Airbnb_NY['cancellation_policy'].astype('str')"
   ]
  },
  {
   "cell_type": "code",
   "execution_count": 27,
   "id": "6bf7451b",
   "metadata": {},
   "outputs": [],
   "source": [
    "df_Airbnb_NY['last_review'] = df_Airbnb_NY['last_review'].astype('str')"
   ]
  },
  {
   "cell_type": "code",
   "execution_count": 28,
   "id": "34cb0a30",
   "metadata": {},
   "outputs": [],
   "source": [
    "# Another quick check to reconfirm the data type mixture correction was successfully executed\n",
    "\n",
    "for col in df_Airbnb_NY.columns.tolist():\n",
    "  weird = (df_Airbnb_NY[[col]].applymap(type) != df_Airbnb_NY[[col]].iloc[0].apply(type)).any(axis = 1)\n",
    "  if len (df_Airbnb_NY[weird]) > 0:\n",
    "    print (col)"
   ]
  },
  {
   "cell_type": "markdown",
   "id": "60c3384b",
   "metadata": {},
   "source": [
    "##### 3.2 Searching and tackling missing values"
   ]
  },
  {
   "cell_type": "code",
   "execution_count": 29,
   "id": "cbb923cc",
   "metadata": {},
   "outputs": [
    {
     "data": {
      "text/plain": [
       "id                       0\n",
       "host_id                  0\n",
       "verification             0\n",
       "neighbourhood_group      0\n",
       "neighbourhood            0\n",
       "lat                      8\n",
       "long                     8\n",
       "country                  0\n",
       "instant_bookable         0\n",
       "cancellation_policy      0\n",
       "room_type                0\n",
       "construction_year      214\n",
       "price                  247\n",
       "service_fee            273\n",
       "minimum_nights         409\n",
       "num_of_reviews         183\n",
       "last_review              0\n",
       "rating                 326\n",
       "host_listings_count    319\n",
       "365_availability       448\n",
       "dtype: int64"
      ]
     },
     "execution_count": 29,
     "metadata": {},
     "output_type": "execute_result"
    }
   ],
   "source": [
    "# Now checking for missing values in the dataframe\n",
    "\n",
    "df_Airbnb_NY.isnull().sum()"
   ]
  },
  {
   "cell_type": "code",
   "execution_count": 30,
   "id": "6334cba7",
   "metadata": {},
   "outputs": [],
   "source": [
    "# Corrective measure deployed is deleting the rows with missing values\n",
    "\n",
    "df_Airbnb_NY = df_Airbnb_NY [df_Airbnb_NY['construction_year'].isnull() == False]"
   ]
  },
  {
   "cell_type": "code",
   "execution_count": 31,
   "id": "8c26240b",
   "metadata": {},
   "outputs": [],
   "source": [
    "df_Airbnb_NY = df_Airbnb_NY [df_Airbnb_NY['minimum_nights'].isnull() == False]"
   ]
  },
  {
   "cell_type": "code",
   "execution_count": 32,
   "id": "f57e3b45",
   "metadata": {},
   "outputs": [],
   "source": [
    "df_Airbnb_NY = df_Airbnb_NY [df_Airbnb_NY['num_of_reviews'].isnull() == False]"
   ]
  },
  {
   "cell_type": "code",
   "execution_count": 33,
   "id": "36d98249",
   "metadata": {},
   "outputs": [],
   "source": [
    "df_Airbnb_NY = df_Airbnb_NY [df_Airbnb_NY['rating'].isnull() == False]"
   ]
  },
  {
   "cell_type": "code",
   "execution_count": 34,
   "id": "b09b1e73",
   "metadata": {},
   "outputs": [],
   "source": [
    "df_Airbnb_NY = df_Airbnb_NY [df_Airbnb_NY['host_listings_count'].isnull() == False]"
   ]
  },
  {
   "cell_type": "code",
   "execution_count": 35,
   "id": "d6d6e1f8",
   "metadata": {},
   "outputs": [],
   "source": [
    "df_Airbnb_NY = df_Airbnb_NY [df_Airbnb_NY['365_availability'].isnull() == False]"
   ]
  },
  {
   "cell_type": "code",
   "execution_count": 36,
   "id": "d70e3df5",
   "metadata": {},
   "outputs": [],
   "source": [
    "df_Airbnb_NY = df_Airbnb_NY [df_Airbnb_NY['lat'].isnull() == False]"
   ]
  },
  {
   "cell_type": "code",
   "execution_count": 37,
   "id": "f4a3d1b6",
   "metadata": {},
   "outputs": [],
   "source": [
    "df_Airbnb_NY = df_Airbnb_NY [df_Airbnb_NY['long'].isnull() == False]"
   ]
  },
  {
   "cell_type": "code",
   "execution_count": 38,
   "id": "c225f88d",
   "metadata": {},
   "outputs": [],
   "source": [
    "df_Airbnb_NY = df_Airbnb_NY [df_Airbnb_NY['price'].isnull() == False]"
   ]
  },
  {
   "cell_type": "code",
   "execution_count": 39,
   "id": "bdca3733",
   "metadata": {},
   "outputs": [],
   "source": [
    "df_Airbnb_NY = df_Airbnb_NY [df_Airbnb_NY['service_fee'].isnull() == False]"
   ]
  },
  {
   "cell_type": "code",
   "execution_count": 40,
   "id": "5d192b96",
   "metadata": {},
   "outputs": [
    {
     "data": {
      "text/plain": [
       "id                     0\n",
       "host_id                0\n",
       "verification           0\n",
       "neighbourhood_group    0\n",
       "neighbourhood          0\n",
       "lat                    0\n",
       "long                   0\n",
       "country                0\n",
       "instant_bookable       0\n",
       "cancellation_policy    0\n",
       "room_type              0\n",
       "construction_year      0\n",
       "price                  0\n",
       "service_fee            0\n",
       "minimum_nights         0\n",
       "num_of_reviews         0\n",
       "last_review            0\n",
       "rating                 0\n",
       "host_listings_count    0\n",
       "365_availability       0\n",
       "dtype: int64"
      ]
     },
     "execution_count": 40,
     "metadata": {},
     "output_type": "execute_result"
    }
   ],
   "source": [
    "# A quick check to confirm successfully execution\n",
    "\n",
    "df_Airbnb_NY.isnull().sum()"
   ]
  },
  {
   "cell_type": "code",
   "execution_count": 41,
   "id": "40599f6c",
   "metadata": {},
   "outputs": [
    {
     "data": {
      "text/plain": [
       "(100425, 20)"
      ]
     },
     "execution_count": 41,
     "metadata": {},
     "output_type": "execute_result"
    }
   ],
   "source": [
    "# Restablishing the dataframe dimensions\n",
    "\n",
    "df_Airbnb_NY.shape"
   ]
  },
  {
   "cell_type": "markdown",
   "id": "b521ed9c",
   "metadata": {},
   "source": [
    "##### 3.3 Detecting and handling the presence of duplicates"
   ]
  },
  {
   "cell_type": "code",
   "execution_count": 42,
   "id": "29780a06",
   "metadata": {},
   "outputs": [],
   "source": [
    "# Running the dataframe to check for duplicates\n",
    "\n",
    "dup = df_Airbnb_NY[df_Airbnb_NY.duplicated()]"
   ]
  },
  {
   "cell_type": "code",
   "execution_count": 43,
   "id": "fe9f4fde",
   "metadata": {},
   "outputs": [
    {
     "data": {
      "text/html": [
       "<div>\n",
       "<style scoped>\n",
       "    .dataframe tbody tr th:only-of-type {\n",
       "        vertical-align: middle;\n",
       "    }\n",
       "\n",
       "    .dataframe tbody tr th {\n",
       "        vertical-align: top;\n",
       "    }\n",
       "\n",
       "    .dataframe thead th {\n",
       "        text-align: right;\n",
       "    }\n",
       "</style>\n",
       "<table border=\"1\" class=\"dataframe\">\n",
       "  <thead>\n",
       "    <tr style=\"text-align: right;\">\n",
       "      <th></th>\n",
       "      <th>id</th>\n",
       "      <th>host_id</th>\n",
       "      <th>verification</th>\n",
       "      <th>neighbourhood_group</th>\n",
       "      <th>neighbourhood</th>\n",
       "      <th>lat</th>\n",
       "      <th>long</th>\n",
       "      <th>country</th>\n",
       "      <th>instant_bookable</th>\n",
       "      <th>cancellation_policy</th>\n",
       "      <th>room_type</th>\n",
       "      <th>construction_year</th>\n",
       "      <th>price</th>\n",
       "      <th>service_fee</th>\n",
       "      <th>minimum_nights</th>\n",
       "      <th>num_of_reviews</th>\n",
       "      <th>last_review</th>\n",
       "      <th>rating</th>\n",
       "      <th>host_listings_count</th>\n",
       "      <th>365_availability</th>\n",
       "    </tr>\n",
       "  </thead>\n",
       "  <tbody>\n",
       "    <tr>\n",
       "      <th>102058</th>\n",
       "      <td>35506831</td>\n",
       "      <td>55110690425</td>\n",
       "      <td>unconfirmed</td>\n",
       "      <td>Queens</td>\n",
       "      <td>Maspeth</td>\n",
       "      <td>40.74056</td>\n",
       "      <td>-73.90635</td>\n",
       "      <td>United States</td>\n",
       "      <td>True</td>\n",
       "      <td>strict</td>\n",
       "      <td>Private room</td>\n",
       "      <td>2016.0</td>\n",
       "      <td>706.0</td>\n",
       "      <td>141.0</td>\n",
       "      <td>1.0</td>\n",
       "      <td>1.0</td>\n",
       "      <td>11/14/2021</td>\n",
       "      <td>3.0</td>\n",
       "      <td>1.0</td>\n",
       "      <td>339.0</td>\n",
       "    </tr>\n",
       "    <tr>\n",
       "      <th>102059</th>\n",
       "      <td>35507383</td>\n",
       "      <td>80193772189</td>\n",
       "      <td>verified</td>\n",
       "      <td>Brooklyn</td>\n",
       "      <td>Fort Greene</td>\n",
       "      <td>40.68701</td>\n",
       "      <td>-73.97555</td>\n",
       "      <td>United States</td>\n",
       "      <td>False</td>\n",
       "      <td>flexible</td>\n",
       "      <td>Private room</td>\n",
       "      <td>2020.0</td>\n",
       "      <td>651.0</td>\n",
       "      <td>130.0</td>\n",
       "      <td>3.0</td>\n",
       "      <td>38.0</td>\n",
       "      <td>11/13/2021</td>\n",
       "      <td>3.0</td>\n",
       "      <td>1.0</td>\n",
       "      <td>0.0</td>\n",
       "    </tr>\n",
       "    <tr>\n",
       "      <th>102060</th>\n",
       "      <td>35507935</td>\n",
       "      <td>72991962259</td>\n",
       "      <td>verified</td>\n",
       "      <td>Brooklyn</td>\n",
       "      <td>Greenpoint</td>\n",
       "      <td>40.73756</td>\n",
       "      <td>-73.95350</td>\n",
       "      <td>United States</td>\n",
       "      <td>False</td>\n",
       "      <td>strict</td>\n",
       "      <td>Hotel room</td>\n",
       "      <td>2016.0</td>\n",
       "      <td>907.0</td>\n",
       "      <td>181.0</td>\n",
       "      <td>3.0</td>\n",
       "      <td>10.0</td>\n",
       "      <td>11/13/2021</td>\n",
       "      <td>3.0</td>\n",
       "      <td>30.0</td>\n",
       "      <td>32.0</td>\n",
       "    </tr>\n",
       "    <tr>\n",
       "      <th>102061</th>\n",
       "      <td>35508488</td>\n",
       "      <td>74975156081</td>\n",
       "      <td>verified</td>\n",
       "      <td>Brooklyn</td>\n",
       "      <td>Greenpoint</td>\n",
       "      <td>40.72516</td>\n",
       "      <td>-73.95004</td>\n",
       "      <td>United States</td>\n",
       "      <td>False</td>\n",
       "      <td>strict</td>\n",
       "      <td>Private room</td>\n",
       "      <td>2013.0</td>\n",
       "      <td>589.0</td>\n",
       "      <td>118.0</td>\n",
       "      <td>30.0</td>\n",
       "      <td>38.0</td>\n",
       "      <td>11/13/2021</td>\n",
       "      <td>5.0</td>\n",
       "      <td>2.0</td>\n",
       "      <td>324.0</td>\n",
       "    </tr>\n",
       "    <tr>\n",
       "      <th>102062</th>\n",
       "      <td>35509040</td>\n",
       "      <td>85844415221</td>\n",
       "      <td>unconfirmed</td>\n",
       "      <td>Brooklyn</td>\n",
       "      <td>Greenpoint</td>\n",
       "      <td>40.72732</td>\n",
       "      <td>-73.94185</td>\n",
       "      <td>United States</td>\n",
       "      <td>False</td>\n",
       "      <td>flexible</td>\n",
       "      <td>Entire home/apt</td>\n",
       "      <td>2015.0</td>\n",
       "      <td>356.0</td>\n",
       "      <td>71.0</td>\n",
       "      <td>30.0</td>\n",
       "      <td>13.0</td>\n",
       "      <td>11/13/2021</td>\n",
       "      <td>4.0</td>\n",
       "      <td>28.0</td>\n",
       "      <td>336.0</td>\n",
       "    </tr>\n",
       "    <tr>\n",
       "      <th>...</th>\n",
       "      <td>...</td>\n",
       "      <td>...</td>\n",
       "      <td>...</td>\n",
       "      <td>...</td>\n",
       "      <td>...</td>\n",
       "      <td>...</td>\n",
       "      <td>...</td>\n",
       "      <td>...</td>\n",
       "      <td>...</td>\n",
       "      <td>...</td>\n",
       "      <td>...</td>\n",
       "      <td>...</td>\n",
       "      <td>...</td>\n",
       "      <td>...</td>\n",
       "      <td>...</td>\n",
       "      <td>...</td>\n",
       "      <td>...</td>\n",
       "      <td>...</td>\n",
       "      <td>...</td>\n",
       "      <td>...</td>\n",
       "    </tr>\n",
       "    <tr>\n",
       "      <th>102594</th>\n",
       "      <td>6092437</td>\n",
       "      <td>12312296767</td>\n",
       "      <td>verified</td>\n",
       "      <td>Brooklyn</td>\n",
       "      <td>Williamsburg</td>\n",
       "      <td>40.70862</td>\n",
       "      <td>-73.94651</td>\n",
       "      <td>United States</td>\n",
       "      <td>False</td>\n",
       "      <td>flexible</td>\n",
       "      <td>Private room</td>\n",
       "      <td>2003.0</td>\n",
       "      <td>844.0</td>\n",
       "      <td>169.0</td>\n",
       "      <td>1.0</td>\n",
       "      <td>0.0</td>\n",
       "      <td>nan</td>\n",
       "      <td>3.0</td>\n",
       "      <td>1.0</td>\n",
       "      <td>227.0</td>\n",
       "    </tr>\n",
       "    <tr>\n",
       "      <th>102595</th>\n",
       "      <td>6092990</td>\n",
       "      <td>77864383453</td>\n",
       "      <td>unconfirmed</td>\n",
       "      <td>Manhattan</td>\n",
       "      <td>Morningside Heights</td>\n",
       "      <td>40.80460</td>\n",
       "      <td>-73.96545</td>\n",
       "      <td>United States</td>\n",
       "      <td>True</td>\n",
       "      <td>moderate</td>\n",
       "      <td>Private room</td>\n",
       "      <td>2016.0</td>\n",
       "      <td>837.0</td>\n",
       "      <td>167.0</td>\n",
       "      <td>1.0</td>\n",
       "      <td>1.0</td>\n",
       "      <td>07/06/2015</td>\n",
       "      <td>2.0</td>\n",
       "      <td>2.0</td>\n",
       "      <td>395.0</td>\n",
       "    </tr>\n",
       "    <tr>\n",
       "      <th>102596</th>\n",
       "      <td>6093542</td>\n",
       "      <td>69050334417</td>\n",
       "      <td>unconfirmed</td>\n",
       "      <td>Brooklyn</td>\n",
       "      <td>Park Slope</td>\n",
       "      <td>40.67505</td>\n",
       "      <td>-73.98045</td>\n",
       "      <td>United States</td>\n",
       "      <td>True</td>\n",
       "      <td>moderate</td>\n",
       "      <td>Private room</td>\n",
       "      <td>2009.0</td>\n",
       "      <td>988.0</td>\n",
       "      <td>198.0</td>\n",
       "      <td>3.0</td>\n",
       "      <td>0.0</td>\n",
       "      <td>nan</td>\n",
       "      <td>5.0</td>\n",
       "      <td>1.0</td>\n",
       "      <td>342.0</td>\n",
       "    </tr>\n",
       "    <tr>\n",
       "      <th>102597</th>\n",
       "      <td>6094094</td>\n",
       "      <td>11160591270</td>\n",
       "      <td>unconfirmed</td>\n",
       "      <td>Queens</td>\n",
       "      <td>Long Island City</td>\n",
       "      <td>40.74989</td>\n",
       "      <td>-73.93777</td>\n",
       "      <td>United States</td>\n",
       "      <td>True</td>\n",
       "      <td>strict</td>\n",
       "      <td>Entire home/apt</td>\n",
       "      <td>2015.0</td>\n",
       "      <td>546.0</td>\n",
       "      <td>109.0</td>\n",
       "      <td>2.0</td>\n",
       "      <td>5.0</td>\n",
       "      <td>10/11/2015</td>\n",
       "      <td>3.0</td>\n",
       "      <td>1.0</td>\n",
       "      <td>386.0</td>\n",
       "    </tr>\n",
       "    <tr>\n",
       "      <th>102598</th>\n",
       "      <td>6094647</td>\n",
       "      <td>68170633372</td>\n",
       "      <td>unconfirmed</td>\n",
       "      <td>Manhattan</td>\n",
       "      <td>Upper West Side</td>\n",
       "      <td>40.76807</td>\n",
       "      <td>-73.98342</td>\n",
       "      <td>United States</td>\n",
       "      <td>False</td>\n",
       "      <td>flexible</td>\n",
       "      <td>Entire home/apt</td>\n",
       "      <td>2010.0</td>\n",
       "      <td>1032.0</td>\n",
       "      <td>206.0</td>\n",
       "      <td>1.0</td>\n",
       "      <td>0.0</td>\n",
       "      <td>nan</td>\n",
       "      <td>3.0</td>\n",
       "      <td>1.0</td>\n",
       "      <td>69.0</td>\n",
       "    </tr>\n",
       "  </tbody>\n",
       "</table>\n",
       "<p>525 rows × 20 columns</p>\n",
       "</div>"
      ],
      "text/plain": [
       "              id      host_id verification neighbourhood_group  \\\n",
       "102058  35506831  55110690425  unconfirmed              Queens   \n",
       "102059  35507383  80193772189     verified            Brooklyn   \n",
       "102060  35507935  72991962259     verified            Brooklyn   \n",
       "102061  35508488  74975156081     verified            Brooklyn   \n",
       "102062  35509040  85844415221  unconfirmed            Brooklyn   \n",
       "...          ...          ...          ...                 ...   \n",
       "102594   6092437  12312296767     verified            Brooklyn   \n",
       "102595   6092990  77864383453  unconfirmed           Manhattan   \n",
       "102596   6093542  69050334417  unconfirmed            Brooklyn   \n",
       "102597   6094094  11160591270  unconfirmed              Queens   \n",
       "102598   6094647  68170633372  unconfirmed           Manhattan   \n",
       "\n",
       "              neighbourhood       lat      long        country  \\\n",
       "102058              Maspeth  40.74056 -73.90635  United States   \n",
       "102059          Fort Greene  40.68701 -73.97555  United States   \n",
       "102060           Greenpoint  40.73756 -73.95350  United States   \n",
       "102061           Greenpoint  40.72516 -73.95004  United States   \n",
       "102062           Greenpoint  40.72732 -73.94185  United States   \n",
       "...                     ...       ...       ...            ...   \n",
       "102594         Williamsburg  40.70862 -73.94651  United States   \n",
       "102595  Morningside Heights  40.80460 -73.96545  United States   \n",
       "102596           Park Slope  40.67505 -73.98045  United States   \n",
       "102597     Long Island City  40.74989 -73.93777  United States   \n",
       "102598      Upper West Side  40.76807 -73.98342  United States   \n",
       "\n",
       "       instant_bookable cancellation_policy        room_type  \\\n",
       "102058             True              strict     Private room   \n",
       "102059            False            flexible     Private room   \n",
       "102060            False              strict       Hotel room   \n",
       "102061            False              strict     Private room   \n",
       "102062            False            flexible  Entire home/apt   \n",
       "...                 ...                 ...              ...   \n",
       "102594            False            flexible     Private room   \n",
       "102595             True            moderate     Private room   \n",
       "102596             True            moderate     Private room   \n",
       "102597             True              strict  Entire home/apt   \n",
       "102598            False            flexible  Entire home/apt   \n",
       "\n",
       "        construction_year   price  service_fee  minimum_nights  \\\n",
       "102058             2016.0   706.0        141.0             1.0   \n",
       "102059             2020.0   651.0        130.0             3.0   \n",
       "102060             2016.0   907.0        181.0             3.0   \n",
       "102061             2013.0   589.0        118.0            30.0   \n",
       "102062             2015.0   356.0         71.0            30.0   \n",
       "...                   ...     ...          ...             ...   \n",
       "102594             2003.0   844.0        169.0             1.0   \n",
       "102595             2016.0   837.0        167.0             1.0   \n",
       "102596             2009.0   988.0        198.0             3.0   \n",
       "102597             2015.0   546.0        109.0             2.0   \n",
       "102598             2010.0  1032.0        206.0             1.0   \n",
       "\n",
       "        num_of_reviews last_review  rating  host_listings_count  \\\n",
       "102058             1.0  11/14/2021     3.0                  1.0   \n",
       "102059            38.0  11/13/2021     3.0                  1.0   \n",
       "102060            10.0  11/13/2021     3.0                 30.0   \n",
       "102061            38.0  11/13/2021     5.0                  2.0   \n",
       "102062            13.0  11/13/2021     4.0                 28.0   \n",
       "...                ...         ...     ...                  ...   \n",
       "102594             0.0         nan     3.0                  1.0   \n",
       "102595             1.0  07/06/2015     2.0                  2.0   \n",
       "102596             0.0         nan     5.0                  1.0   \n",
       "102597             5.0  10/11/2015     3.0                  1.0   \n",
       "102598             0.0         nan     3.0                  1.0   \n",
       "\n",
       "        365_availability  \n",
       "102058             339.0  \n",
       "102059               0.0  \n",
       "102060              32.0  \n",
       "102061             324.0  \n",
       "102062             336.0  \n",
       "...                  ...  \n",
       "102594             227.0  \n",
       "102595             395.0  \n",
       "102596             342.0  \n",
       "102597             386.0  \n",
       "102598              69.0  \n",
       "\n",
       "[525 rows x 20 columns]"
      ]
     },
     "execution_count": 43,
     "metadata": {},
     "output_type": "execute_result"
    }
   ],
   "source": [
    "dup"
   ]
  },
  {
   "cell_type": "code",
   "execution_count": 44,
   "id": "bd7a8ec8",
   "metadata": {},
   "outputs": [],
   "source": [
    "# Ensuring the dataframe is free of duplicates\n",
    "\n",
    "df_Airbnb_NY_clean = df_Airbnb_NY.drop_duplicates()"
   ]
  },
  {
   "cell_type": "code",
   "execution_count": 45,
   "id": "6865f057",
   "metadata": {},
   "outputs": [
    {
     "data": {
      "text/plain": [
       "(99900, 20)"
      ]
     },
     "execution_count": 45,
     "metadata": {},
     "output_type": "execute_result"
    }
   ],
   "source": [
    "df_Airbnb_NY_clean.shape"
   ]
  },
  {
   "cell_type": "code",
   "execution_count": 46,
   "id": "a0106eef",
   "metadata": {},
   "outputs": [
    {
     "data": {
      "text/html": [
       "<div>\n",
       "<style scoped>\n",
       "    .dataframe tbody tr th:only-of-type {\n",
       "        vertical-align: middle;\n",
       "    }\n",
       "\n",
       "    .dataframe tbody tr th {\n",
       "        vertical-align: top;\n",
       "    }\n",
       "\n",
       "    .dataframe thead th {\n",
       "        text-align: right;\n",
       "    }\n",
       "</style>\n",
       "<table border=\"1\" class=\"dataframe\">\n",
       "  <thead>\n",
       "    <tr style=\"text-align: right;\">\n",
       "      <th></th>\n",
       "      <th>id</th>\n",
       "      <th>host_id</th>\n",
       "      <th>lat</th>\n",
       "      <th>long</th>\n",
       "      <th>construction_year</th>\n",
       "      <th>price</th>\n",
       "      <th>service_fee</th>\n",
       "      <th>minimum_nights</th>\n",
       "      <th>num_of_reviews</th>\n",
       "      <th>rating</th>\n",
       "      <th>host_listings_count</th>\n",
       "      <th>365_availability</th>\n",
       "    </tr>\n",
       "  </thead>\n",
       "  <tbody>\n",
       "    <tr>\n",
       "      <th>count</th>\n",
       "      <td>9.990000e+04</td>\n",
       "      <td>9.990000e+04</td>\n",
       "      <td>99900.000000</td>\n",
       "      <td>99900.000000</td>\n",
       "      <td>99900.000000</td>\n",
       "      <td>99900.000000</td>\n",
       "      <td>99900.000000</td>\n",
       "      <td>99900.000000</td>\n",
       "      <td>99900.000000</td>\n",
       "      <td>99900.000000</td>\n",
       "      <td>99900.000000</td>\n",
       "      <td>99900.000000</td>\n",
       "    </tr>\n",
       "    <tr>\n",
       "      <th>mean</th>\n",
       "      <td>2.929651e+07</td>\n",
       "      <td>4.925292e+10</td>\n",
       "      <td>40.728047</td>\n",
       "      <td>-73.949641</td>\n",
       "      <td>2012.486256</td>\n",
       "      <td>625.464314</td>\n",
       "      <td>125.093784</td>\n",
       "      <td>8.083033</td>\n",
       "      <td>27.346827</td>\n",
       "      <td>3.279650</td>\n",
       "      <td>7.954915</td>\n",
       "      <td>140.744454</td>\n",
       "    </tr>\n",
       "    <tr>\n",
       "      <th>std</th>\n",
       "      <td>1.623461e+07</td>\n",
       "      <td>2.853867e+10</td>\n",
       "      <td>0.055852</td>\n",
       "      <td>0.049554</td>\n",
       "      <td>5.762644</td>\n",
       "      <td>331.690134</td>\n",
       "      <td>66.341411</td>\n",
       "      <td>28.724539</td>\n",
       "      <td>49.170887</td>\n",
       "      <td>1.284543</td>\n",
       "      <td>32.340632</td>\n",
       "      <td>135.384437</td>\n",
       "    </tr>\n",
       "    <tr>\n",
       "      <th>min</th>\n",
       "      <td>1.001254e+06</td>\n",
       "      <td>1.236005e+08</td>\n",
       "      <td>40.499790</td>\n",
       "      <td>-74.249840</td>\n",
       "      <td>2003.000000</td>\n",
       "      <td>50.000000</td>\n",
       "      <td>10.000000</td>\n",
       "      <td>-1223.000000</td>\n",
       "      <td>0.000000</td>\n",
       "      <td>1.000000</td>\n",
       "      <td>1.000000</td>\n",
       "      <td>-10.000000</td>\n",
       "    </tr>\n",
       "    <tr>\n",
       "      <th>25%</th>\n",
       "      <td>1.521961e+07</td>\n",
       "      <td>2.457814e+10</td>\n",
       "      <td>40.688700</td>\n",
       "      <td>-73.982580</td>\n",
       "      <td>2007.000000</td>\n",
       "      <td>340.000000</td>\n",
       "      <td>68.000000</td>\n",
       "      <td>2.000000</td>\n",
       "      <td>1.000000</td>\n",
       "      <td>2.000000</td>\n",
       "      <td>1.000000</td>\n",
       "      <td>3.000000</td>\n",
       "    </tr>\n",
       "    <tr>\n",
       "      <th>50%</th>\n",
       "      <td>2.937823e+07</td>\n",
       "      <td>4.911800e+10</td>\n",
       "      <td>40.722255</td>\n",
       "      <td>-73.954450</td>\n",
       "      <td>2012.000000</td>\n",
       "      <td>625.000000</td>\n",
       "      <td>125.000000</td>\n",
       "      <td>3.000000</td>\n",
       "      <td>7.000000</td>\n",
       "      <td>3.000000</td>\n",
       "      <td>1.000000</td>\n",
       "      <td>95.000000</td>\n",
       "    </tr>\n",
       "    <tr>\n",
       "      <th>75%</th>\n",
       "      <td>4.337504e+07</td>\n",
       "      <td>7.398330e+10</td>\n",
       "      <td>40.762760</td>\n",
       "      <td>-73.932340</td>\n",
       "      <td>2017.000000</td>\n",
       "      <td>913.000000</td>\n",
       "      <td>183.000000</td>\n",
       "      <td>5.000000</td>\n",
       "      <td>30.000000</td>\n",
       "      <td>4.000000</td>\n",
       "      <td>2.000000</td>\n",
       "      <td>268.000000</td>\n",
       "    </tr>\n",
       "    <tr>\n",
       "      <th>max</th>\n",
       "      <td>5.736024e+07</td>\n",
       "      <td>9.876313e+10</td>\n",
       "      <td>40.916970</td>\n",
       "      <td>-73.705220</td>\n",
       "      <td>2022.000000</td>\n",
       "      <td>1200.000000</td>\n",
       "      <td>240.000000</td>\n",
       "      <td>5645.000000</td>\n",
       "      <td>1024.000000</td>\n",
       "      <td>5.000000</td>\n",
       "      <td>332.000000</td>\n",
       "      <td>3677.000000</td>\n",
       "    </tr>\n",
       "  </tbody>\n",
       "</table>\n",
       "</div>"
      ],
      "text/plain": [
       "                 id       host_id           lat          long  \\\n",
       "count  9.990000e+04  9.990000e+04  99900.000000  99900.000000   \n",
       "mean   2.929651e+07  4.925292e+10     40.728047    -73.949641   \n",
       "std    1.623461e+07  2.853867e+10      0.055852      0.049554   \n",
       "min    1.001254e+06  1.236005e+08     40.499790    -74.249840   \n",
       "25%    1.521961e+07  2.457814e+10     40.688700    -73.982580   \n",
       "50%    2.937823e+07  4.911800e+10     40.722255    -73.954450   \n",
       "75%    4.337504e+07  7.398330e+10     40.762760    -73.932340   \n",
       "max    5.736024e+07  9.876313e+10     40.916970    -73.705220   \n",
       "\n",
       "       construction_year         price   service_fee  minimum_nights  \\\n",
       "count       99900.000000  99900.000000  99900.000000    99900.000000   \n",
       "mean         2012.486256    625.464314    125.093784        8.083033   \n",
       "std             5.762644    331.690134     66.341411       28.724539   \n",
       "min          2003.000000     50.000000     10.000000    -1223.000000   \n",
       "25%          2007.000000    340.000000     68.000000        2.000000   \n",
       "50%          2012.000000    625.000000    125.000000        3.000000   \n",
       "75%          2017.000000    913.000000    183.000000        5.000000   \n",
       "max          2022.000000   1200.000000    240.000000     5645.000000   \n",
       "\n",
       "       num_of_reviews        rating  host_listings_count  365_availability  \n",
       "count    99900.000000  99900.000000         99900.000000      99900.000000  \n",
       "mean        27.346827      3.279650             7.954915        140.744454  \n",
       "std         49.170887      1.284543            32.340632        135.384437  \n",
       "min          0.000000      1.000000             1.000000        -10.000000  \n",
       "25%          1.000000      2.000000             1.000000          3.000000  \n",
       "50%          7.000000      3.000000             1.000000         95.000000  \n",
       "75%         30.000000      4.000000             2.000000        268.000000  \n",
       "max       1024.000000      5.000000           332.000000       3677.000000  "
      ]
     },
     "execution_count": 46,
     "metadata": {},
     "output_type": "execute_result"
    }
   ],
   "source": [
    "# A quick look at the statistical qualities of the dataframe\n",
    "\n",
    "df_Airbnb_NY_clean.describe()\n",
    "\n",
    "# There's a quick observation\n",
    "# The maximum value in 365_availability column is '3677'. Idealy,no value should exceed 365"
   ]
  },
  {
   "cell_type": "markdown",
   "id": "398e0bf2",
   "metadata": {},
   "source": [
    "## 4.0 Exporting the data"
   ]
  },
  {
   "cell_type": "code",
   "execution_count": 47,
   "id": "8b7d100a",
   "metadata": {},
   "outputs": [],
   "source": [
    "# Defining the path\n",
    "\n",
    "path = r'C:\\Users\\IDONG'"
   ]
  },
  {
   "cell_type": "code",
   "execution_count": 49,
   "id": "bafb28d8",
   "metadata": {},
   "outputs": [],
   "source": [
    "# Exporting as Airbnb_NY_clean\n",
    "\n",
    "df_Airbnb_NY_clean.to_csv(os.path.join(path, 'Prepared Data', 'Airbnb_NY_clean.csv'))"
   ]
  },
  {
   "cell_type": "code",
   "execution_count": null,
   "id": "27c10147",
   "metadata": {},
   "outputs": [],
   "source": []
  }
 ],
 "metadata": {
  "kernelspec": {
   "display_name": "Python 3 (ipykernel)",
   "language": "python",
   "name": "python3"
  },
  "language_info": {
   "codemirror_mode": {
    "name": "ipython",
    "version": 3
   },
   "file_extension": ".py",
   "mimetype": "text/x-python",
   "name": "python",
   "nbconvert_exporter": "python",
   "pygments_lexer": "ipython3",
   "version": "3.9.13"
  }
 },
 "nbformat": 4,
 "nbformat_minor": 5
}
